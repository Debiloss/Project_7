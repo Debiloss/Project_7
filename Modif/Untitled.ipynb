{
 "cells": [
  {
   "cell_type": "code",
   "execution_count": 11,
   "id": "b473b38c",
   "metadata": {},
   "outputs": [],
   "source": [
    "import mlflow.pyfunc\n",
    "import pandas as pd\n",
    "from fastapi import FastAPI, HTTPException\n",
    "from fastapi.responses import HTMLResponse\n",
    "from pydantic import BaseModel\n",
    "import uvicorn\n",
    "import json\n",
    "import numpy as np\n",
    "import shap\n",
    "import sys\n",
    "import fastapi\n",
    "import pydantic"
   ]
  },
  {
   "cell_type": "code",
   "execution_count": 12,
   "id": "ba266afa",
   "metadata": {},
   "outputs": [
    {
     "name": "stdout",
     "output_type": "stream",
     "text": [
      "Version des librairies utilisées :\n",
      "mlflow         : 2.2.0\n",
      "Python                : 3.9.7 (default, Sep 16 2021, 16:59:28) [MSC v.1916 64 bit (AMD64)]\n",
      "NumPy                 : 1.22.3\n",
      "Pandas                : 1.4.4\n",
      "FastAPI              : 0.92.0\n",
      "Pydantic              : 1.10.2\n",
      "uvicorn              : 0.20.0\n",
      "Shap              : 0.41.0\n",
      "json              : 2.0.9\n"
     ]
    }
   ],
   "source": [
    "# Versions\n",
    "print('Version des librairies utilisées :')\n",
    "print('mlflow         : ' + mlflow.__version__)\n",
    "print('Python                : ' + sys.version)\n",
    "print('NumPy                 : ' + np.version.full_version)\n",
    "print('Pandas                : ' + pd.__version__)\n",
    "print('FastAPI              : ' + fastapi.__version__)\n",
    "print('Pydantic              : ' + pydantic.__version__)\n",
    "print('uvicorn              : ' + uvicorn.__version__)\n",
    "print('Shap              : ' + shap.__version__)\n",
    "print('json              : ' + json.__version__)"
   ]
  },
  {
   "cell_type": "code",
   "execution_count": null,
   "id": "faeece3a",
   "metadata": {},
   "outputs": [],
   "source": []
  }
 ],
 "metadata": {
  "kernelspec": {
   "display_name": "Python 3 (ipykernel)",
   "language": "python",
   "name": "python3"
  },
  "language_info": {
   "codemirror_mode": {
    "name": "ipython",
    "version": 3
   },
   "file_extension": ".py",
   "mimetype": "text/x-python",
   "name": "python",
   "nbconvert_exporter": "python",
   "pygments_lexer": "ipython3",
   "version": "3.9.7"
  }
 },
 "nbformat": 4,
 "nbformat_minor": 5
}
