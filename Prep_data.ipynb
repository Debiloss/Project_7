{
 "cells": [
  {
   "cell_type": "markdown",
   "id": "34a5cb26",
   "metadata": {},
   "source": [
    "# Mise en forme du dataset test pour le dashboard"
   ]
  },
  {
   "cell_type": "code",
   "execution_count": 1,
   "id": "3699764e",
   "metadata": {},
   "outputs": [
    {
     "name": "stderr",
     "output_type": "stream",
     "text": [
      "C:\\Users\\Sofia\\AppData\\Local\\Temp\\ipykernel_27012\\3552848637.py:6: FutureWarning: pandas.Int64Index is deprecated and will be removed from pandas in a future version. Use pandas.Index with the appropriate dtype instead.\n",
      "  from pandas import MultiIndex, Int64Index\n"
     ]
    }
   ],
   "source": [
    "import numpy as np\n",
    "import pandas as pd\n",
    "import matplotlib.pyplot as plt\n",
    "from matplotlib.pyplot import figure\n",
    "import seaborn as sns\n",
    "from pandas import MultiIndex, Int64Index"
   ]
  },
  {
   "cell_type": "code",
   "execution_count": 2,
   "id": "f3845795",
   "metadata": {},
   "outputs": [],
   "source": [
    "# Changement de l'affichage\n",
    "\n",
    "pd.set_option('display.max_row',200)\n",
    "pd.set_option('display.max_column',200)\n",
    "pd.set_option('display.precision', 5)\n",
    "pd.set_option('display.max_colwidth', None)"
   ]
  },
  {
   "cell_type": "markdown",
   "id": "b90923c8",
   "metadata": {},
   "source": [
    "#### Chargement des dataset\n",
    "###### Application test : dataset original des données tests\n",
    "###### New test : dataset test complet (feature engineering, Nan, etc) et toute les variables\n",
    "###### data model : dataset pour prédictions\n",
    "#### On va créer un dataset avec les variables que l'on souhaite utiliser pour le dashboard"
   ]
  },
  {
   "cell_type": "code",
   "execution_count": 3,
   "id": "b54e51e5",
   "metadata": {},
   "outputs": [],
   "source": [
    "# Chargement des fichier\n",
    "\n",
    "test = pd.read_csv(r\"C:\\Users\\Sofia\\OneDrive\\Documents\\OpenClassrooms\\Project_7\\home-credit-default-risk\\application_test.csv\")\n",
    "test2 = pd.read_csv(r\"C:\\Users\\Sofia\\OneDrive\\Documents\\OpenClassrooms\\Project_7\\API\\new_test.csv\")"
   ]
  },
  {
   "cell_type": "code",
   "execution_count": 4,
   "id": "baf63e36",
   "metadata": {},
   "outputs": [],
   "source": [
    "MAIN_COLUMNS = ['SK_ID_CURR', 'NAME_INCOME_TYPE', 'NAME_EDUCATION_TYPE',\n",
    "                'NAME_FAMILY_STATUS', 'CODE_GENDER', 'FLAG_DOCUMENT_2', 'FLAG_DOCUMENT_3']\n",
    "\n",
    "MAIN_COLUMNS_2 = ['SK_ID_CURR', 'DAYS_EMPLOYED_PERC',\n",
    "       'INCOME_CREDIT_PERC', 'INCOME_PER_PERSON', 'ANNUITY_INCOME_PERC',\n",
    "       'PAYMENT_RATE', 'EXT_SOURCE_2', 'EXT_SOURCE_3', 'AMT_INCOME_TOTAL', 'AMT_CREDIT',\n",
    "                'AMT_ANNUITY', 'AGE', 'DAYS_EMPLOYED', 'PROBA', 'TARGET']"
   ]
  },
  {
   "cell_type": "code",
   "execution_count": 5,
   "id": "dc713ca8",
   "metadata": {},
   "outputs": [],
   "source": [
    "test_info = test[MAIN_COLUMNS].merge(test2[MAIN_COLUMNS_2], on=\"SK_ID_CURR\", how='left')"
   ]
  },
  {
   "cell_type": "code",
   "execution_count": 6,
   "id": "2e1529bc",
   "metadata": {},
   "outputs": [
    {
     "data": {
      "text/plain": [
       "(48744, 21)"
      ]
     },
     "execution_count": 6,
     "metadata": {},
     "output_type": "execute_result"
    }
   ],
   "source": [
    "test_info.shape"
   ]
  },
  {
   "cell_type": "code",
   "execution_count": 7,
   "id": "ea707b99",
   "metadata": {},
   "outputs": [
    {
     "name": "stdout",
     "output_type": "stream",
     "text": [
      "<class 'pandas.core.frame.DataFrame'>\n",
      "Int64Index: 48744 entries, 0 to 48743\n",
      "Data columns (total 21 columns):\n",
      " #   Column               Non-Null Count  Dtype  \n",
      "---  ------               --------------  -----  \n",
      " 0   SK_ID_CURR           48744 non-null  int64  \n",
      " 1   NAME_INCOME_TYPE     48744 non-null  object \n",
      " 2   NAME_EDUCATION_TYPE  48744 non-null  object \n",
      " 3   NAME_FAMILY_STATUS   48744 non-null  object \n",
      " 4   CODE_GENDER          48744 non-null  object \n",
      " 5   FLAG_DOCUMENT_2      48744 non-null  int64  \n",
      " 6   FLAG_DOCUMENT_3      48744 non-null  int64  \n",
      " 7   DAYS_EMPLOYED_PERC   48744 non-null  float64\n",
      " 8   INCOME_CREDIT_PERC   48744 non-null  float64\n",
      " 9   INCOME_PER_PERSON    48744 non-null  float64\n",
      " 10  ANNUITY_INCOME_PERC  48744 non-null  float64\n",
      " 11  PAYMENT_RATE         48744 non-null  float64\n",
      " 12  EXT_SOURCE_2         48744 non-null  float64\n",
      " 13  EXT_SOURCE_3         48744 non-null  float64\n",
      " 14  AMT_INCOME_TOTAL     48744 non-null  float64\n",
      " 15  AMT_CREDIT           48744 non-null  float64\n",
      " 16  AMT_ANNUITY          48744 non-null  float64\n",
      " 17  AGE                  48744 non-null  float64\n",
      " 18  DAYS_EMPLOYED        48744 non-null  float64\n",
      " 19  PROBA                48744 non-null  float64\n",
      " 20  TARGET               48744 non-null  int64  \n",
      "dtypes: float64(13), int64(4), object(4)\n",
      "memory usage: 8.2+ MB\n"
     ]
    }
   ],
   "source": [
    "test_info.info()"
   ]
  },
  {
   "cell_type": "code",
   "execution_count": 8,
   "id": "8b08fb24",
   "metadata": {
    "scrolled": true
   },
   "outputs": [
    {
     "data": {
      "text/html": [
       "<div>\n",
       "<style scoped>\n",
       "    .dataframe tbody tr th:only-of-type {\n",
       "        vertical-align: middle;\n",
       "    }\n",
       "\n",
       "    .dataframe tbody tr th {\n",
       "        vertical-align: top;\n",
       "    }\n",
       "\n",
       "    .dataframe thead th {\n",
       "        text-align: right;\n",
       "    }\n",
       "</style>\n",
       "<table border=\"1\" class=\"dataframe\">\n",
       "  <thead>\n",
       "    <tr style=\"text-align: right;\">\n",
       "      <th></th>\n",
       "      <th>SK_ID_CURR</th>\n",
       "      <th>NAME_INCOME_TYPE</th>\n",
       "      <th>NAME_EDUCATION_TYPE</th>\n",
       "      <th>NAME_FAMILY_STATUS</th>\n",
       "      <th>CODE_GENDER</th>\n",
       "      <th>FLAG_DOCUMENT_2</th>\n",
       "      <th>FLAG_DOCUMENT_3</th>\n",
       "      <th>DAYS_EMPLOYED_PERC</th>\n",
       "      <th>INCOME_CREDIT_PERC</th>\n",
       "      <th>INCOME_PER_PERSON</th>\n",
       "      <th>ANNUITY_INCOME_PERC</th>\n",
       "      <th>PAYMENT_RATE</th>\n",
       "      <th>EXT_SOURCE_2</th>\n",
       "      <th>EXT_SOURCE_3</th>\n",
       "      <th>AMT_INCOME_TOTAL</th>\n",
       "      <th>AMT_CREDIT</th>\n",
       "      <th>AMT_ANNUITY</th>\n",
       "      <th>AGE</th>\n",
       "      <th>DAYS_EMPLOYED</th>\n",
       "      <th>PROBA</th>\n",
       "      <th>TARGET</th>\n",
       "    </tr>\n",
       "  </thead>\n",
       "  <tbody>\n",
       "    <tr>\n",
       "      <th>0</th>\n",
       "      <td>100001</td>\n",
       "      <td>Working</td>\n",
       "      <td>Higher education</td>\n",
       "      <td>Married</td>\n",
       "      <td>F</td>\n",
       "      <td>0</td>\n",
       "      <td>1</td>\n",
       "      <td>0.12104</td>\n",
       "      <td>0.23734</td>\n",
       "      <td>67500.0</td>\n",
       "      <td>0.15230</td>\n",
       "      <td>0.03615</td>\n",
       "      <td>0.78965</td>\n",
       "      <td>0.15952</td>\n",
       "      <td>135000.0</td>\n",
       "      <td>568800.0</td>\n",
       "      <td>20560.5</td>\n",
       "      <td>52.71507</td>\n",
       "      <td>-2329.0</td>\n",
       "      <td>0.41466</td>\n",
       "      <td>0</td>\n",
       "    </tr>\n",
       "    <tr>\n",
       "      <th>1</th>\n",
       "      <td>100005</td>\n",
       "      <td>Working</td>\n",
       "      <td>Secondary / secondary special</td>\n",
       "      <td>Married</td>\n",
       "      <td>M</td>\n",
       "      <td>0</td>\n",
       "      <td>1</td>\n",
       "      <td>0.24740</td>\n",
       "      <td>0.44441</td>\n",
       "      <td>49500.0</td>\n",
       "      <td>0.17545</td>\n",
       "      <td>0.07797</td>\n",
       "      <td>0.29166</td>\n",
       "      <td>0.43296</td>\n",
       "      <td>99000.0</td>\n",
       "      <td>222768.0</td>\n",
       "      <td>17370.0</td>\n",
       "      <td>49.49041</td>\n",
       "      <td>-4469.0</td>\n",
       "      <td>0.45955</td>\n",
       "      <td>0</td>\n",
       "    </tr>\n",
       "    <tr>\n",
       "      <th>2</th>\n",
       "      <td>100013</td>\n",
       "      <td>Working</td>\n",
       "      <td>Higher education</td>\n",
       "      <td>Married</td>\n",
       "      <td>M</td>\n",
       "      <td>0</td>\n",
       "      <td>0</td>\n",
       "      <td>0.22248</td>\n",
       "      <td>0.30531</td>\n",
       "      <td>101250.0</td>\n",
       "      <td>0.30471</td>\n",
       "      <td>0.09303</td>\n",
       "      <td>0.69979</td>\n",
       "      <td>0.61099</td>\n",
       "      <td>202500.0</td>\n",
       "      <td>663264.0</td>\n",
       "      <td>61704.0</td>\n",
       "      <td>54.89863</td>\n",
       "      <td>-4458.0</td>\n",
       "      <td>0.13548</td>\n",
       "      <td>0</td>\n",
       "    </tr>\n",
       "    <tr>\n",
       "      <th>3</th>\n",
       "      <td>100028</td>\n",
       "      <td>Working</td>\n",
       "      <td>Secondary / secondary special</td>\n",
       "      <td>Married</td>\n",
       "      <td>F</td>\n",
       "      <td>0</td>\n",
       "      <td>1</td>\n",
       "      <td>0.13351</td>\n",
       "      <td>0.20000</td>\n",
       "      <td>78750.0</td>\n",
       "      <td>0.15561</td>\n",
       "      <td>0.03112</td>\n",
       "      <td>0.50968</td>\n",
       "      <td>0.61270</td>\n",
       "      <td>315000.0</td>\n",
       "      <td>1575000.0</td>\n",
       "      <td>49018.5</td>\n",
       "      <td>38.29041</td>\n",
       "      <td>-1866.0</td>\n",
       "      <td>0.25940</td>\n",
       "      <td>0</td>\n",
       "    </tr>\n",
       "    <tr>\n",
       "      <th>4</th>\n",
       "      <td>100038</td>\n",
       "      <td>Working</td>\n",
       "      <td>Secondary / secondary special</td>\n",
       "      <td>Married</td>\n",
       "      <td>M</td>\n",
       "      <td>0</td>\n",
       "      <td>1</td>\n",
       "      <td>0.16802</td>\n",
       "      <td>0.28777</td>\n",
       "      <td>60000.0</td>\n",
       "      <td>0.17815</td>\n",
       "      <td>0.05127</td>\n",
       "      <td>0.42569</td>\n",
       "      <td>0.50011</td>\n",
       "      <td>180000.0</td>\n",
       "      <td>625500.0</td>\n",
       "      <td>32067.0</td>\n",
       "      <td>35.72603</td>\n",
       "      <td>-2191.0</td>\n",
       "      <td>0.21602</td>\n",
       "      <td>0</td>\n",
       "    </tr>\n",
       "  </tbody>\n",
       "</table>\n",
       "</div>"
      ],
      "text/plain": [
       "   SK_ID_CURR NAME_INCOME_TYPE            NAME_EDUCATION_TYPE  \\\n",
       "0      100001          Working               Higher education   \n",
       "1      100005          Working  Secondary / secondary special   \n",
       "2      100013          Working               Higher education   \n",
       "3      100028          Working  Secondary / secondary special   \n",
       "4      100038          Working  Secondary / secondary special   \n",
       "\n",
       "  NAME_FAMILY_STATUS CODE_GENDER  FLAG_DOCUMENT_2  FLAG_DOCUMENT_3  \\\n",
       "0            Married           F                0                1   \n",
       "1            Married           M                0                1   \n",
       "2            Married           M                0                0   \n",
       "3            Married           F                0                1   \n",
       "4            Married           M                0                1   \n",
       "\n",
       "   DAYS_EMPLOYED_PERC  INCOME_CREDIT_PERC  INCOME_PER_PERSON  \\\n",
       "0             0.12104             0.23734            67500.0   \n",
       "1             0.24740             0.44441            49500.0   \n",
       "2             0.22248             0.30531           101250.0   \n",
       "3             0.13351             0.20000            78750.0   \n",
       "4             0.16802             0.28777            60000.0   \n",
       "\n",
       "   ANNUITY_INCOME_PERC  PAYMENT_RATE  EXT_SOURCE_2  EXT_SOURCE_3  \\\n",
       "0              0.15230       0.03615       0.78965       0.15952   \n",
       "1              0.17545       0.07797       0.29166       0.43296   \n",
       "2              0.30471       0.09303       0.69979       0.61099   \n",
       "3              0.15561       0.03112       0.50968       0.61270   \n",
       "4              0.17815       0.05127       0.42569       0.50011   \n",
       "\n",
       "   AMT_INCOME_TOTAL  AMT_CREDIT  AMT_ANNUITY       AGE  DAYS_EMPLOYED  \\\n",
       "0          135000.0    568800.0      20560.5  52.71507        -2329.0   \n",
       "1           99000.0    222768.0      17370.0  49.49041        -4469.0   \n",
       "2          202500.0    663264.0      61704.0  54.89863        -4458.0   \n",
       "3          315000.0   1575000.0      49018.5  38.29041        -1866.0   \n",
       "4          180000.0    625500.0      32067.0  35.72603        -2191.0   \n",
       "\n",
       "     PROBA  TARGET  \n",
       "0  0.41466       0  \n",
       "1  0.45955       0  \n",
       "2  0.13548       0  \n",
       "3  0.25940       0  \n",
       "4  0.21602       0  "
      ]
     },
     "execution_count": 8,
     "metadata": {},
     "output_type": "execute_result"
    }
   ],
   "source": [
    "test_info.head()"
   ]
  },
  {
   "cell_type": "code",
   "execution_count": 9,
   "id": "e74ecd93",
   "metadata": {},
   "outputs": [],
   "source": [
    "test_info['AGE_EMPLOYED'] = (abs(test_info['DAYS_EMPLOYED']/-365)).astype(int)"
   ]
  },
  {
   "cell_type": "code",
   "execution_count": 10,
   "id": "b9f51f87",
   "metadata": {},
   "outputs": [],
   "source": [
    "test_info['DAYS_EMPLOYED_PERC'] = test_info['DAYS_EMPLOYED_PERC']*100\n",
    "test_info['INCOME_CREDIT_PERC'] = test_info['INCOME_CREDIT_PERC']*100\n",
    "test_info['ANNUITY_INCOME_PERC'] = test_info['ANNUITY_INCOME_PERC']*100\n",
    "test_info['PAYMENT_RATE'] = test_info['PAYMENT_RATE']*100"
   ]
  },
  {
   "cell_type": "code",
   "execution_count": 11,
   "id": "6bc43a64",
   "metadata": {},
   "outputs": [
    {
     "data": {
      "text/plain": [
       "(48744, 21)"
      ]
     },
     "execution_count": 11,
     "metadata": {},
     "output_type": "execute_result"
    }
   ],
   "source": [
    "test_info = test_info.drop('DAYS_EMPLOYED', axis=1)\n",
    "test_info.shape"
   ]
  },
  {
   "cell_type": "code",
   "execution_count": 12,
   "id": "c310d010",
   "metadata": {},
   "outputs": [
    {
     "data": {
      "text/plain": [
       "0    45520\n",
       "1     3224\n",
       "Name: TARGET, dtype: int64"
      ]
     },
     "execution_count": 12,
     "metadata": {},
     "output_type": "execute_result"
    }
   ],
   "source": [
    "test_info['TARGET'].value_counts()"
   ]
  },
  {
   "cell_type": "code",
   "execution_count": 13,
   "id": "02851a3e",
   "metadata": {},
   "outputs": [
    {
     "data": {
      "text/plain": [
       "<AxesSubplot:xlabel='PROBA', ylabel='Count'>"
      ]
     },
     "execution_count": 13,
     "metadata": {},
     "output_type": "execute_result"
    },
    {
     "data": {
      "image/png": "[encoded data removed]",
      "text/plain": [
       "<Figure size 640x480 with 1 Axes>"
      ]
     },
     "metadata": {},
     "output_type": "display_data"
    }
   ],
   "source": [
    "sns.histplot(data=test_info, x='PROBA', kde=True)"
   ]
  },
  {
   "cell_type": "code",
   "execution_count": 14,
   "id": "f7831422",
   "metadata": {},
   "outputs": [],
   "source": [
    "test_info.to_csv(r\"C:\\Users\\Sofia\\OneDrive\\Documents\\OpenClassrooms\\Project_7\\API\\test_info.csv\", index=False)"
   ]
  },
  {
   "cell_type": "code",
   "execution_count": null,
   "id": "2620ec43",
   "metadata": {},
   "outputs": [],
   "source": []
  }
 ],
 "metadata": {
  "kernelspec": {
   "display_name": "Python 3 (ipykernel)",
   "language": "python",
   "name": "python3"
  },
  "language_info": {
   "codemirror_mode": {
    "name": "ipython",
    "version": 3
   },
   "file_extension": ".py",
   "mimetype": "text/x-python",
   "name": "python",
   "nbconvert_exporter": "python",
   "pygments_lexer": "ipython3",
   "version": "3.9.7"
  }
 },
 "nbformat": 4,
 "nbformat_minor": 5
}
